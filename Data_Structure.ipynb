{
  "nbformat": 4,
  "nbformat_minor": 0,
  "metadata": {
    "colab": {
      "provenance": []
    },
    "kernelspec": {
      "name": "python3",
      "display_name": "Python 3"
    },
    "language_info": {
      "name": "python"
    }
  },
  "cells": [
    {
      "cell_type": "markdown",
      "source": [
        "#DATA STRUCTURE"
      ],
      "metadata": {
        "id": "yGm31S1ZSl1M"
      }
    },
    {
      "cell_type": "markdown",
      "source": [
        "1. What are data structres, and why are they important?\n",
        "    - Data structures are ways to organize and store data in a program. They are important because they help in managing data efficiently, making programs faster and more organized.\n",
        "\n",
        "2. Explore the difference between mutable and immutable data types with examples.\n",
        "    - * Mutable: Can be changed after creation.\n",
        "        e.g., lists([1,2,3]), dictionaries ({'a': 1, 'b': 2})\n",
        "      * Immutable: Cannot be changed after creation.\n",
        "        e.g., Tuples ((1,2,3)), Strings(\"hello\").\n",
        "\n",
        "3. What are the main differences between lists and tuples in Python?\n",
        "    - * List are made, so you can change them after creation. e.g., [1,2,3]\n",
        "      * Tuples are immutable, so they can't be changed after creation. e.g., (1,2,3).\n",
        "      * Lists are slower but flexible, while Tuples are faster but fixed.\n",
        "\n",
        "4. Describe how dictionaries store data.\n",
        "    - Dictionaries stores data as key - Value pairs. Each key is unique and maps to a specific value. Examples:"
      ],
      "metadata": {
        "id": "posYeI2kSq82"
      }
    },
    {
      "cell_type": "code",
      "execution_count": 1,
      "metadata": {
        "colab": {
          "base_uri": "https://localhost:8080/"
        },
        "id": "SLg4QkRqSZ8l",
        "outputId": "691014f1-df83-4f3e-bf77-993f559c0e2f"
      },
      "outputs": [
        {
          "output_type": "stream",
          "name": "stdout",
          "text": [
            "Alexa\n"
          ]
        }
      ],
      "source": [
        "student = {'name': 'Alexa', 'age': 25}\n",
        "print (student['name'])"
      ]
    },
    {
      "cell_type": "markdown",
      "source": [
        "5. Why might you use a set instead of a list in Python?\n",
        "    - Sets are used when you need unique values because they automatically remove duplicates. They are also faster for checking if an items exists.\n",
        "\n",
        "6. What is a string in Python, and how is it different from list?\n",
        "    - A string is a sequence of characters (\"hello\"), while list is a collection of items ([\"h\", \"e\", \"l\", \"l\", \"O\"]).\n",
        "     Lists are mutable while strings are immutable.\n",
        "\n",
        "7. How do tuples ensure data integrity in Python?\n",
        "    - Since tuples can not be changed(immutable), they protect data from accidental modification, making item ideal for fixed records.\n",
        "\n",
        "8. What is a hash table, and how does it relates to dictionaries in Python?\n",
        "    - A hash table is a data structure that stores key - value pairs using a unique index(hash). Python dictionaries use hash tables to quickly find and retrieve values.\n",
        "\n",
        "9.  Can lists contains different data types in Python?\n",
        "    - Yes, lists can hold multiple data types in the same list. e.g.,\n",
        "     mixed_list = [1, \"hello\", 3.14, True].\n",
        "\n",
        "10. Explain why strings are immutable in Python?\n",
        "    - Strings are immutable to ensure secrurity, memory efficieny, and performance optimization.\n",
        "\n",
        "11. What advantages do dictionaries offer over lists for certain tasks?\n",
        "    - Dictionaries allow fast lookups because they store data as key-value pairs, instead of searching through list, you can directly access values using a key.\n",
        "\n",
        "12. Describe a scenerio where using a tuple would be praferable over a list.\n",
        "    - If you have a set of constant values that should never change, like the coordinates of a location. (10.5, 20.3), a tuple is better.\n",
        "\n",
        "13. How do sets handle duplicate values in Python?\n",
        "    - Sets automatically remove duplicates when data is added. Example:"
      ],
      "metadata": {
        "id": "2P2t6HmLWrZl"
      }
    },
    {
      "cell_type": "code",
      "source": [
        "my_set = {1,2,2,3}\n",
        "print(my_set)"
      ],
      "metadata": {
        "colab": {
          "base_uri": "https://localhost:8080/"
        },
        "id": "tzJ3Atp2WmLu",
        "outputId": "2cd767f9-2dfc-49bb-b28c-679a7734aa31"
      },
      "execution_count": 2,
      "outputs": [
        {
          "output_type": "stream",
          "name": "stdout",
          "text": [
            "{1, 2, 3}\n"
          ]
        }
      ]
    },
    {
      "cell_type": "markdown",
      "source": [
        "14. How does \"in\" keyword works differently for lists and dictionaries?\n",
        "    - In lists, \"in\" checks if an item is present."
      ],
      "metadata": {
        "id": "bK6mV9hLcqG6"
      }
    },
    {
      "cell_type": "code",
      "source": [
        "print(3 in [1,2,3])"
      ],
      "metadata": {
        "colab": {
          "base_uri": "https://localhost:8080/"
        },
        "id": "5USwpL-acnki",
        "outputId": "1d66694d-b9c0-4287-ea90-d6ebfa4dfb79"
      },
      "execution_count": 3,
      "outputs": [
        {
          "output_type": "stream",
          "name": "stdout",
          "text": [
            "True\n"
          ]
        }
      ]
    },
    {
      "cell_type": "markdown",
      "source": [
        "    - In dictionaries \"in\" checks if a key exists, not the values."
      ],
      "metadata": {
        "id": "cpKvy-t2dFUc"
      }
    },
    {
      "cell_type": "code",
      "source": [
        "my_dict = {\"a\": 1, \"b\": 2}\n",
        "print (\"a\" in my_dict)"
      ],
      "metadata": {
        "colab": {
          "base_uri": "https://localhost:8080/"
        },
        "id": "SGUyfRdvdDRV",
        "outputId": "3791dbc1-98a8-457e-d047-5a2fe6b8d88c"
      },
      "execution_count": 4,
      "outputs": [
        {
          "output_type": "stream",
          "name": "stdout",
          "text": [
            "True\n"
          ]
        }
      ]
    },
    {
      "cell_type": "markdown",
      "source": [
        "15. Can you modify the elements of a tuple? Explain why or why not?\n",
        "    - No, tuples are immutable, meaning you can't change their elements after creation.\n",
        "\n",
        "16. What is nested dictionaries, and give an example of its use case?\n",
        "    - A nested dictionaries is a dictionary inside another dictionary. Example:"
      ],
      "metadata": {
        "id": "Dgw-A7zgdgXU"
      }
    },
    {
      "cell_type": "code",
      "source": [
        "students = {\n",
        "    \"Alice\": {\"age\": 20, \"grade\": \"A\"},\n",
        "    \"Bob\": {\"age\": 22, \"grade\": \"B\"}\n",
        "}\n",
        "print(students[\"Alice\"][\"grade\"])\n"
      ],
      "metadata": {
        "colab": {
          "base_uri": "https://localhost:8080/"
        },
        "id": "bKbJTEPsdeHK",
        "outputId": "4b519779-9b99-4a15-d483-be0c8fdc6876"
      },
      "execution_count": 5,
      "outputs": [
        {
          "output_type": "stream",
          "name": "stdout",
          "text": [
            "A\n"
          ]
        }
      ]
    },
    {
      "cell_type": "markdown",
      "source": [
        "17. Describe the time complexity of accessign elements in a dictionary.\n",
        "    - Accessing an element in a  dictionary is 0(1) (constant time) because it uses hash tables, making lookups very fast.\n",
        "\n",
        "18. In what situations are list preferred over dictionaries?\n",
        "    - When you need to store ordered data and works with sequences, lists are better.\n",
        "\n",
        "19. Why are dictionaries considered unordered, and how does that affects data retrieval?\n",
        "    - Dictionaries do not store elements in a fixed ordered (before python 3.7). This means retrieving data follows key - based lookup, not position - based access.\n",
        "\n",
        "20. Explain the difference between a list and a dictionary in terms of data retrived.\n",
        "    - * Lists use index-based retrived (my_list[0]).\n",
        "      * Dictionaries use key-based retrieved (my_dict['key']), which is usually faster."
      ],
      "metadata": {
        "id": "eP3QURCfeWtr"
      }
    },
    {
      "cell_type": "markdown",
      "source": [
        "PRACTICAL QUESTIONS"
      ],
      "metadata": {
        "id": "VZCu7xv0gmoe"
      }
    },
    {
      "cell_type": "code",
      "source": [
        "# 1. Create a string with your name and print it.\n",
        "name = \"Alok\"\n",
        "print(name)"
      ],
      "metadata": {
        "colab": {
          "base_uri": "https://localhost:8080/"
        },
        "id": "C9MgNqUieT9p",
        "outputId": "85e0f2ed-85b5-4b39-b788-b2d8086d388f"
      },
      "execution_count": 6,
      "outputs": [
        {
          "output_type": "stream",
          "name": "stdout",
          "text": [
            "Alok\n"
          ]
        }
      ]
    },
    {
      "cell_type": "code",
      "source": [
        "# 2. Find the length of the string \"Hello World\".\n",
        "string = \"Hello World\"\n",
        "print(len(string))"
      ],
      "metadata": {
        "colab": {
          "base_uri": "https://localhost:8080/"
        },
        "id": "pLpT1_Ubg3Ug",
        "outputId": "2a7f8508-f4e9-4966-d544-553c58acc0ec"
      },
      "execution_count": 8,
      "outputs": [
        {
          "output_type": "stream",
          "name": "stdout",
          "text": [
            "11\n"
          ]
        }
      ]
    },
    {
      "cell_type": "code",
      "source": [
        "# 3. Slice the first 3 characters from \"Python Programming\".\n",
        "text = \"Python Programming\"\n",
        "print(text[:3])"
      ],
      "metadata": {
        "colab": {
          "base_uri": "https://localhost:8080/"
        },
        "id": "aOpo-2tUhJn3",
        "outputId": "17c6e6de-116f-492c-c64a-273d02c8b365"
      },
      "execution_count": 9,
      "outputs": [
        {
          "output_type": "stream",
          "name": "stdout",
          "text": [
            "Pyt\n"
          ]
        }
      ]
    },
    {
      "cell_type": "code",
      "source": [
        "# 4. Convert \"hello\" to uppercase.\n",
        "word = \"hello\"\n",
        "print(word.upper())"
      ],
      "metadata": {
        "colab": {
          "base_uri": "https://localhost:8080/"
        },
        "id": "O_sEw8OShibB",
        "outputId": "8987bab8-ad14-4a70-8a17-13a362f33dc5"
      },
      "execution_count": 10,
      "outputs": [
        {
          "output_type": "stream",
          "name": "stdout",
          "text": [
            "HELLO\n"
          ]
        }
      ]
    },
    {
      "cell_type": "code",
      "source": [
        "# 5. Replace \"apple\" with \"orange\" in \"I like apple\".\n",
        "sentence = \"I like apple\"\n",
        "print(sentence.replace(\"apple\", \"orange\"))"
      ],
      "metadata": {
        "colab": {
          "base_uri": "https://localhost:8080/"
        },
        "id": "ktGwWn94hyPg",
        "outputId": "485323ec-3a93-4af7-894c-937aedbbbf14"
      },
      "execution_count": 11,
      "outputs": [
        {
          "output_type": "stream",
          "name": "stdout",
          "text": [
            "I like orange\n"
          ]
        }
      ]
    },
    {
      "cell_type": "code",
      "source": [
        "# 6. Create a list with numbers 1 to 5 and print.\n",
        "numbers = [1,2,3,4,5]\n",
        "print(numbers)"
      ],
      "metadata": {
        "colab": {
          "base_uri": "https://localhost:8080/"
        },
        "id": "IZ8keDGQiM0Q",
        "outputId": "d7383e03-b086-4449-acdd-5be004027881"
      },
      "execution_count": 12,
      "outputs": [
        {
          "output_type": "stream",
          "name": "stdout",
          "text": [
            "[1, 2, 3, 4, 5]\n"
          ]
        }
      ]
    },
    {
      "cell_type": "code",
      "source": [
        "# 7. Append 10 to the list[1,2,3,4]\n",
        "numbers = [1,2,3,4]\n",
        "numbers.append(10)\n",
        "print(numbers)"
      ],
      "metadata": {
        "colab": {
          "base_uri": "https://localhost:8080/"
        },
        "id": "pbxQ_3jQiVin",
        "outputId": "37f86ea5-6568-4bae-8bf9-f23326dbfc52"
      },
      "execution_count": 13,
      "outputs": [
        {
          "output_type": "stream",
          "name": "stdout",
          "text": [
            "[1, 2, 3, 4, 10]\n"
          ]
        }
      ]
    },
    {
      "cell_type": "code",
      "source": [
        "# 8. Remove number 3 from [1,2,3,4,5]\n",
        "numbers = [1,2,3,4,5]\n",
        "numbers.remove(3)\n",
        "print(numbers)"
      ],
      "metadata": {
        "colab": {
          "base_uri": "https://localhost:8080/"
        },
        "id": "FAxUM_NHilVT",
        "outputId": "20400f05-275d-42ef-cf21-9684b529fd94"
      },
      "execution_count": 14,
      "outputs": [
        {
          "output_type": "stream",
          "name": "stdout",
          "text": [
            "[1, 2, 4, 5]\n"
          ]
        }
      ]
    },
    {
      "cell_type": "code",
      "source": [
        "# 9. Access the second element in the list ['a', 'b', 'c', 'd']\n",
        "letters = ['a', 'b', 'c', 'd']\n",
        "print(letters[1])"
      ],
      "metadata": {
        "colab": {
          "base_uri": "https://localhost:8080/"
        },
        "id": "M0uh_pnIizly",
        "outputId": "f50a8e66-6b33-4cf3-9027-78a0ab471fd1"
      },
      "execution_count": 15,
      "outputs": [
        {
          "output_type": "stream",
          "name": "stdout",
          "text": [
            "b\n"
          ]
        }
      ]
    },
    {
      "cell_type": "code",
      "source": [
        "# 10. Reverse the list [10,20,30,40,50]\n",
        "numbers = [10,20,30,40,50]\n",
        "print(numbers[::-1])"
      ],
      "metadata": {
        "colab": {
          "base_uri": "https://localhost:8080/"
        },
        "id": "MWGfCtPdjIfZ",
        "outputId": "a278cae0-49c6-4644-e174-75760d24b41e"
      },
      "execution_count": 16,
      "outputs": [
        {
          "output_type": "stream",
          "name": "stdout",
          "text": [
            "[50, 40, 30, 20, 10]\n"
          ]
        }
      ]
    },
    {
      "cell_type": "code",
      "source": [
        "# 11. Create a Tuple with 100, 200, 300 and print it.\n",
        "my_tuple = (100, 200, 300)\n",
        "print(my_tuple)"
      ],
      "metadata": {
        "colab": {
          "base_uri": "https://localhost:8080/"
        },
        "id": "tlgze1o0jejr",
        "outputId": "40198633-4dbd-4322-a60a-521bc9d7e251"
      },
      "execution_count": 18,
      "outputs": [
        {
          "output_type": "stream",
          "name": "stdout",
          "text": [
            "(100, 200, 300)\n"
          ]
        }
      ]
    },
    {
      "cell_type": "code",
      "source": [
        "# 12. Access the second-to-last element of (\"red\", \"green\", \"blue\", \"yellow\")\n",
        "colors = (\"red\", \"green\", \"blue\", \"yellow\")\n",
        "print(colors[-2])"
      ],
      "metadata": {
        "colab": {
          "base_uri": "https://localhost:8080/"
        },
        "id": "OhaR6Md_jvsX",
        "outputId": "33a18899-ebd5-403c-9246-6de326670e07"
      },
      "execution_count": 19,
      "outputs": [
        {
          "output_type": "stream",
          "name": "stdout",
          "text": [
            "blue\n"
          ]
        }
      ]
    },
    {
      "cell_type": "code",
      "source": [
        "# 13. find the minimum number in (10,20,5,15)\n",
        "numbers = (10,20,5,15)\n",
        "print(min(numbers))"
      ],
      "metadata": {
        "colab": {
          "base_uri": "https://localhost:8080/"
        },
        "id": "gfd7Id42kJUc",
        "outputId": "19e0b26a-855d-4cfa-f9f9-1073a39b4995"
      },
      "execution_count": 20,
      "outputs": [
        {
          "output_type": "stream",
          "name": "stdout",
          "text": [
            "5\n"
          ]
        }
      ]
    },
    {
      "cell_type": "code",
      "source": [
        "# 14. find the index of \"cat\" in (\"dog\", \"cat\", \"rabbit\")\n",
        "animals = (\"dog\", \"cat\", \"rabbit\")\n",
        "print(animals.index(\"cat\"))"
      ],
      "metadata": {
        "colab": {
          "base_uri": "https://localhost:8080/"
        },
        "id": "5EqANuFakb50",
        "outputId": "a36668d1-60a5-48df-b11a-0a68482daf8c"
      },
      "execution_count": 24,
      "outputs": [
        {
          "output_type": "stream",
          "name": "stdout",
          "text": [
            "1\n"
          ]
        }
      ]
    },
    {
      "cell_type": "code",
      "source": [
        "# 15. Create a set with three fruits and check if \"kiwi\" is in it.\n",
        "fruits = {\"apple\", \"banana\", \"cherry\"}\n",
        "print(\"kiwi\" in fruits)"
      ],
      "metadata": {
        "colab": {
          "base_uri": "https://localhost:8080/"
        },
        "id": "szkwBZXFktDn",
        "outputId": "b7f2314a-e0cd-4d68-a13f-a4eeb4a8bd1f"
      },
      "execution_count": 25,
      "outputs": [
        {
          "output_type": "stream",
          "name": "stdout",
          "text": [
            "False\n"
          ]
        }
      ]
    },
    {
      "cell_type": "code",
      "source": [
        "# 16. Create a set with {'a', 'b', 'c'} and print it.\n",
        "my_set = {'a', 'b', 'c'}\n",
        "print(my_set)\n"
      ],
      "metadata": {
        "colab": {
          "base_uri": "https://localhost:8080/"
        },
        "id": "2AYIoo9ilQU9",
        "outputId": "90ad63db-a1e8-4afb-dbd7-f27493bac26f"
      },
      "execution_count": 26,
      "outputs": [
        {
          "output_type": "stream",
          "name": "stdout",
          "text": [
            "{'c', 'b', 'a'}\n"
          ]
        }
      ]
    },
    {
      "cell_type": "code",
      "source": [
        "# 17. Clear all elements from {1,2,3,4,5}.\n",
        "numbers = {1,2,3,4,5}\n",
        "numbers.clear()\n",
        "print(numbers)"
      ],
      "metadata": {
        "colab": {
          "base_uri": "https://localhost:8080/"
        },
        "id": "oTlmaG6IleBE",
        "outputId": "cc79aa73-4cfc-4541-cba1-a23ddafda1c8"
      },
      "execution_count": 27,
      "outputs": [
        {
          "output_type": "stream",
          "name": "stdout",
          "text": [
            "set()\n"
          ]
        }
      ]
    },
    {
      "cell_type": "code",
      "source": [
        "# 18. Remove 4 from {1,2,3,4}\n",
        "numbers = {1,2,3,4}\n",
        "numbers.remove(4)\n",
        "print(numbers)"
      ],
      "metadata": {
        "colab": {
          "base_uri": "https://localhost:8080/"
        },
        "id": "oEvoNzlDlwKg",
        "outputId": "ff71ef84-4e63-49d5-c4f5-efd7afe39eb2"
      },
      "execution_count": 28,
      "outputs": [
        {
          "output_type": "stream",
          "name": "stdout",
          "text": [
            "{1, 2, 3}\n"
          ]
        }
      ]
    },
    {
      "cell_type": "code",
      "source": [
        "# 19. find the union of {1,2,3} and {3,4,5}\n",
        "set1 = {1,2,3}\n",
        "set2 = {3,4,5}\n",
        "set1 | set2"
      ],
      "metadata": {
        "colab": {
          "base_uri": "https://localhost:8080/"
        },
        "id": "SwAqsgWkl8sO",
        "outputId": "1b62a845-899c-4b14-8c78-cf4a5a35184c"
      },
      "execution_count": 30,
      "outputs": [
        {
          "output_type": "execute_result",
          "data": {
            "text/plain": [
              "{1, 2, 3, 4, 5}"
            ]
          },
          "metadata": {},
          "execution_count": 30
        }
      ]
    },
    {
      "cell_type": "code",
      "source": [
        "# 20. Find the intersection of {1,2,3} and {2,3,4}\n",
        "set1 = {1,2,3}\n",
        "set2 = {2,3,4}\n",
        "set1 & set2"
      ],
      "metadata": {
        "colab": {
          "base_uri": "https://localhost:8080/"
        },
        "id": "RyYfPUxWmPgG",
        "outputId": "eecaddd3-20b2-4252-f15d-78deeef07c38"
      },
      "execution_count": 31,
      "outputs": [
        {
          "output_type": "execute_result",
          "data": {
            "text/plain": [
              "{2, 3}"
            ]
          },
          "metadata": {},
          "execution_count": 31
        }
      ]
    },
    {
      "cell_type": "code",
      "source": [
        "# 21. Create a dictionary with keys \"names\", \"age\", and \"city\" and print it.\n",
        "my_dict = {\"names\": \"Alok\", \"age\": 24, \"city\": \"Gurgaon\"}\n",
        "print(my_dict)"
      ],
      "metadata": {
        "colab": {
          "base_uri": "https://localhost:8080/"
        },
        "id": "FsBD154NmdXl",
        "outputId": "ac7fee03-0c3e-4656-99e1-d046fd256f6a"
      },
      "execution_count": 32,
      "outputs": [
        {
          "output_type": "stream",
          "name": "stdout",
          "text": [
            "{'names': 'Alok', 'age': 24, 'city': 'Gurgaon'}\n"
          ]
        }
      ]
    },
    {
      "cell_type": "code",
      "source": [
        "# 22. Add a key \"Country\" with the value \"USA\" to {'name': 'John', 'age': 25}\n",
        "my_dict = {'name': 'John', 'age': 25}\n",
        "my_dict[\"Country\"] = \"USA\"\n",
        "print(my_dict)"
      ],
      "metadata": {
        "colab": {
          "base_uri": "https://localhost:8080/"
        },
        "id": "GvySS7cHm0nj",
        "outputId": "fdf1f010-98a7-44e3-c05e-85beeace3e12"
      },
      "execution_count": 33,
      "outputs": [
        {
          "output_type": "stream",
          "name": "stdout",
          "text": [
            "{'name': 'John', 'age': 25, 'Country': 'USA'}\n"
          ]
        }
      ]
    },
    {
      "cell_type": "code",
      "source": [
        "# 23. Access the value of \"name\" in {'name': 'Alice', 'age': 30}\n",
        "person = {'name': 'Alice', 'age': 30}\n",
        "print(person['name'])"
      ],
      "metadata": {
        "colab": {
          "base_uri": "https://localhost:8080/"
        },
        "id": "t9GKWrZsnfC3",
        "outputId": "a576fc3f-dbc5-499b-fc4b-c990b6c5d38a"
      },
      "execution_count": 34,
      "outputs": [
        {
          "output_type": "stream",
          "name": "stdout",
          "text": [
            "Alice\n"
          ]
        }
      ]
    },
    {
      "cell_type": "code",
      "source": [
        "# 24. Remove 'age' from {'name': 'Bob', 'age': 22, 'city': 'New York'}\n",
        "person = {'name': 'Bob', 'age': 22, 'city': 'New York'}\n",
        "person.pop('age')\n",
        "print(person)"
      ],
      "metadata": {
        "colab": {
          "base_uri": "https://localhost:8080/"
        },
        "id": "rlnXHwa2oVde",
        "outputId": "774ff85d-38a6-4030-ce32-d4861e5cecdc"
      },
      "execution_count": 35,
      "outputs": [
        {
          "output_type": "stream",
          "name": "stdout",
          "text": [
            "{'name': 'Bob', 'city': 'New York'}\n"
          ]
        }
      ]
    },
    {
      "cell_type": "code",
      "source": [
        "# 25. Check if \"city\" exists in {'name': 'Alice', 'city': 'Peris'}\n",
        "person = {'name': 'Alice', 'city': 'Peris'}\n",
        "print('city' in person)"
      ],
      "metadata": {
        "colab": {
          "base_uri": "https://localhost:8080/"
        },
        "id": "5L6o8jNNo0re",
        "outputId": "bf3f4aa0-1241-4623-f783-964c2821557b"
      },
      "execution_count": 36,
      "outputs": [
        {
          "output_type": "stream",
          "name": "stdout",
          "text": [
            "True\n"
          ]
        }
      ]
    },
    {
      "cell_type": "code",
      "source": [
        "# 26. Create a list, a tuple and dictionary and print them.\n",
        "my_list = [1,2,3]\n",
        "my_tuple = (1,2,3)\n",
        "my_dict = {1,2,3}\n",
        "print(my_list)\n",
        "print(my_tuple)\n",
        "print(my_dict)"
      ],
      "metadata": {
        "colab": {
          "base_uri": "https://localhost:8080/"
        },
        "id": "RCYCJHihpPhF",
        "outputId": "fb73bb11-e9ae-49d9-85e8-44c4cb625bd7"
      },
      "execution_count": 39,
      "outputs": [
        {
          "output_type": "stream",
          "name": "stdout",
          "text": [
            "[1, 2, 3]\n",
            "(1, 2, 3)\n",
            "{1, 2, 3}\n"
          ]
        }
      ]
    },
    {
      "cell_type": "code",
      "source": [
        "# 27. Generate 5 random numbers (1 - 100), sort in ascending order, and print.\n",
        "import random\n",
        "numbers = random.sample(range(1,101),5)\n",
        "numbers.sort()\n",
        "print(numbers)"
      ],
      "metadata": {
        "colab": {
          "base_uri": "https://localhost:8080/"
        },
        "id": "bPl7CUoCpnVr",
        "outputId": "4524e3c9-3513-46aa-e394-2337c489ba77"
      },
      "execution_count": 40,
      "outputs": [
        {
          "output_type": "stream",
          "name": "stdout",
          "text": [
            "[17, 22, 26, 87, 91]\n"
          ]
        }
      ]
    },
    {
      "cell_type": "code",
      "source": [
        "# 28. Create a list of strings and print the element at index 3.\n",
        "words = [\"apple\", \"banana\", \"cherry\", \"date\", \"elderberry\"]\n",
        "print(words[3])"
      ],
      "metadata": {
        "colab": {
          "base_uri": "https://localhost:8080/"
        },
        "id": "ZEC6rfq8qMzz",
        "outputId": "cf711f71-bb1a-430e-8145-b77d7fca6ec3"
      },
      "execution_count": 41,
      "outputs": [
        {
          "output_type": "stream",
          "name": "stdout",
          "text": [
            "date\n"
          ]
        }
      ]
    },
    {
      "cell_type": "code",
      "source": [
        "#29. Combine two dictionaries into one and print the result.\n",
        "dict1 = {'a': 1, 'b': 2}\n",
        "dict2 = {'c': 3, 'd': 4}\n",
        "dict1.update(dict2)\n",
        "print(dict1)"
      ],
      "metadata": {
        "colab": {
          "base_uri": "https://localhost:8080/"
        },
        "id": "oLiz3_WfqrSr",
        "outputId": "726f5dfd-5dd3-4a40-dfd2-dd9f8c00c4f4"
      },
      "execution_count": 42,
      "outputs": [
        {
          "output_type": "stream",
          "name": "stdout",
          "text": [
            "{'a': 1, 'b': 2, 'c': 3, 'd': 4}\n"
          ]
        }
      ]
    },
    {
      "cell_type": "code",
      "source": [
        "# 30. Convert a list of strings into a set.\n",
        "words = [\"apple\", \"banana\", \"cherry\", \"date\", \"elderberry\"]\n",
        "my_set = set(words)\n",
        "print(my_set)"
      ],
      "metadata": {
        "colab": {
          "base_uri": "https://localhost:8080/"
        },
        "id": "H7nTzKN8q5bA",
        "outputId": "04882a10-183f-48a8-a7b3-b6f33aa480a2"
      },
      "execution_count": 43,
      "outputs": [
        {
          "output_type": "stream",
          "name": "stdout",
          "text": [
            "{'date', 'elderberry', 'cherry', 'banana', 'apple'}\n"
          ]
        }
      ]
    }
  ]
}